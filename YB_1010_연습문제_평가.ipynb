{
  "nbformat": 4,
  "nbformat_minor": 0,
  "metadata": {
    "colab": {
      "provenance": []
    },
    "kernelspec": {
      "name": "python3",
      "display_name": "Python 3"
    },
    "language_info": {
      "name": "python"
    }
  },
  "cells": [
    {
      "cell_type": "code",
      "metadata": {
        "id": "4Zqc4O_BfWqZ",
        "colab": {
          "base_uri": "https://localhost:8080/"
        },
        "outputId": "05cccb62-3e36-42e1-fc71-d5a6a37c7d33"
      },
      "source": [
        "# 모듈 및 데이터 로드\n",
        "from sklearn.datasets import load_breast_cancer\n",
        "from sklearn.linear_model import LogisticRegression\n",
        "\n",
        "data = load_breast_cancer()\n",
        "\n",
        "# x, y 데이터 생성\n",
        "X = data.data\n",
        "\n",
        "# 악성을 1, 양성을 0으로\n",
        "y = 1 - data.target\n",
        "\n",
        "# 특징으로 사용할 데이터를 평균으로 구분하는 10개 열로 축소\n",
        "X = X[:, :10]\n",
        "\n",
        "# 로지스틱 회귀 모델 생성\n",
        "model_lor = LogisticRegression(solver = 'lbfgs')\n",
        "model_lor.fit(X,y)\n",
        "y_pred = model_lor.predict(X)"
      ],
      "execution_count": 38,
      "outputs": [
        {
          "output_type": "stream",
          "name": "stderr",
          "text": [
            "/usr/local/lib/python3.12/dist-packages/sklearn/linear_model/_logistic.py:465: ConvergenceWarning: lbfgs failed to converge (status=1):\n",
            "STOP: TOTAL NO. OF ITERATIONS REACHED LIMIT.\n",
            "\n",
            "Increase the number of iterations (max_iter) or scale the data as shown in:\n",
            "    https://scikit-learn.org/stable/modules/preprocessing.html\n",
            "Please also refer to the documentation for alternative solver options:\n",
            "    https://scikit-learn.org/stable/modules/linear_model.html#logistic-regression\n",
            "  n_iter_i = _check_optimize_result(\n"
          ]
        }
      ]
    },
    {
      "cell_type": "markdown",
      "metadata": {
        "id": "faoAfc1ZgAcq"
      },
      "source": [
        "**오차 행렬(혼동 행렬) 생성**"
      ]
    },
    {
      "cell_type": "code",
      "metadata": {
        "id": "JdML8YM0gBtu",
        "colab": {
          "base_uri": "https://localhost:8080/"
        },
        "outputId": "ff4aa64d-38dd-444c-82b9-050cade411e7"
      },
      "source": [
        "# 종속 변수와 예측 결과로 혼동 행렬 생성\n",
        "from sklearn.metrics import confusion_matrix\n",
        "\n",
        "cm = confusion_matrix(y, y_pred)\n",
        "cm"
      ],
      "execution_count": 39,
      "outputs": [
        {
          "output_type": "execute_result",
          "data": {
            "text/plain": [
              "array([[337,  20],\n",
              "       [ 30, 182]])"
            ]
          },
          "metadata": {},
          "execution_count": 39
        }
      ]
    },
    {
      "cell_type": "markdown",
      "metadata": {
        "id": "xbcK3rT-gFRk"
      },
      "source": [
        "**정확도의 개념을 설명하고, 정확도를 구해 해당 값을 통해 알 수 있는 점을 쓰시오.**"
      ]
    },
    {
      "cell_type": "markdown",
      "source": [
        "정확도는 모델이 전체 예측에서 얼마나 맞췄는지를 나타내는 비율이다."
      ],
      "metadata": {
        "id": "rqugMka-gBi-"
      }
    },
    {
      "cell_type": "code",
      "metadata": {
        "id": "NLiXFuYvgI1e",
        "colab": {
          "base_uri": "https://localhost:8080/"
        },
        "outputId": "52180cc5-32f0-4a34-bbbc-90fdbd0cf13b"
      },
      "source": [
        "from sklearn.metrics import accuracy_score\n",
        "\n",
        "accuracy_score(y, y_pred)"
      ],
      "execution_count": 40,
      "outputs": [
        {
          "output_type": "execute_result",
          "data": {
            "text/plain": [
              "0.9121265377855887"
            ]
          },
          "metadata": {},
          "execution_count": 40
        }
      ]
    },
    {
      "cell_type": "markdown",
      "source": [
        "모델의 전체 예측 중 약 91.2%가 맞았다는 것을 알 수 있다."
      ],
      "metadata": {
        "id": "F3I0zJo1gaks"
      }
    },
    {
      "cell_type": "markdown",
      "metadata": {
        "id": "UYnVZS9igNNf"
      },
      "source": [
        "**정밀도의 개념을 설명하고, 정확도를 구해 해당 값을 통해 알 수 있는 점을 쓰시오.**"
      ]
    },
    {
      "cell_type": "markdown",
      "source": [
        "정밀도는 모델이 양성으로 예측한 것 중 실제로 양성인 비율이다."
      ],
      "metadata": {
        "id": "nDGH63cPgNag"
      }
    },
    {
      "cell_type": "code",
      "metadata": {
        "id": "j108NueLgMKF",
        "colab": {
          "base_uri": "https://localhost:8080/"
        },
        "outputId": "19adcd56-7940-4154-9221-096be7be3179"
      },
      "source": [
        "from sklearn.metrics import precision_score\n",
        "\n",
        "precision_score(y, y_pred)"
      ],
      "execution_count": 41,
      "outputs": [
        {
          "output_type": "execute_result",
          "data": {
            "text/plain": [
              "0.900990099009901"
            ]
          },
          "metadata": {},
          "execution_count": 41
        }
      ]
    },
    {
      "cell_type": "markdown",
      "source": [
        "예측한 양성 중 약 90.0%가 실제로 양성이었다는 것을 알 수 있다."
      ],
      "metadata": {
        "id": "AzPEO8o0gvF4"
      }
    },
    {
      "cell_type": "markdown",
      "metadata": {
        "id": "2-MBquNJZOM4"
      },
      "source": [
        "**재현율의 개념을 설명하고, 정확도를 구해 해당 값을 통해 알 수 있는 점을 쓰시오.**"
      ]
    },
    {
      "cell_type": "markdown",
      "source": [
        "재현율은 실제 양성 샘플 중에서 모델이 얼마나 많이 맞췄는지를 나타낸다."
      ],
      "metadata": {
        "id": "mBEmFoshg5mS"
      }
    },
    {
      "cell_type": "code",
      "metadata": {
        "id": "uje4ivPvZPwv",
        "colab": {
          "base_uri": "https://localhost:8080/"
        },
        "outputId": "b5db4e3c-3008-4dcd-bb5b-6de657cfa018"
      },
      "source": [
        "from sklearn.metrics import recall_score\n",
        "\n",
        "recall_score(y, y_pred)"
      ],
      "execution_count": 42,
      "outputs": [
        {
          "output_type": "execute_result",
          "data": {
            "text/plain": [
              "0.8584905660377359"
            ]
          },
          "metadata": {},
          "execution_count": 42
        }
      ]
    },
    {
      "cell_type": "markdown",
      "source": [
        "실제 양성 샘플 중 약 85.8%를 모델이 올바르게 양성으로 예측했다는 것을 알 수 있다."
      ],
      "metadata": {
        "id": "SA0b6WyXhFWw"
      }
    },
    {
      "cell_type": "markdown",
      "metadata": {
        "id": "Cw1p3yjagUCH"
      },
      "source": [
        "**F1 score의 개념을 설명하고, 정확도를 구해 해당 값을 통해 알 수 있는 점을 쓰시오.**"
      ]
    },
    {
      "cell_type": "markdown",
      "source": [
        "F1 score는 정밀도와 재현율을 조화평균으로 계산한 지표이다."
      ],
      "metadata": {
        "id": "xqy3JYZvhUw-"
      }
    },
    {
      "cell_type": "code",
      "metadata": {
        "id": "hPdtYdoDgYgV",
        "colab": {
          "base_uri": "https://localhost:8080/"
        },
        "outputId": "4b0d1911-b471-4ae5-f66f-a478d9ac7a65"
      },
      "source": [
        "from sklearn.metrics import f1_score\n",
        "\n",
        "f1_score(y, y_pred)"
      ],
      "execution_count": 43,
      "outputs": [
        {
          "output_type": "execute_result",
          "data": {
            "text/plain": [
              "0.8792270531400966"
            ]
          },
          "metadata": {},
          "execution_count": 43
        }
      ]
    },
    {
      "cell_type": "markdown",
      "source": [
        "정밀도와 재현율의 균형을 고려했을 때 모델의 양성 예측 성능이 약 87.9%라는 것을 알 수 있다."
      ],
      "metadata": {
        "id": "vBQJKi8ohfRW"
      }
    },
    {
      "cell_type": "markdown",
      "metadata": {
        "id": "fzwIFsKOW5a1"
      },
      "source": [
        "**예측 확률(pred_proba) : 0으로 예측할 확률이 0.1보다 크면 y_pred2 에 넣는다 가정.**"
      ]
    },
    {
      "cell_type": "code",
      "metadata": {
        "id": "nw9dxOiPW40l"
      },
      "source": [
        "from sklearn.preprocessing import Binarizer\n",
        "\n",
        "y_prob = model_lor.predict_proba(X)\n",
        "\n",
        "y_proba_0 = y_prob[:,1].reshape(-1,1)\n",
        "\n",
        "binarizer = Binarizer(threshold = 0.9)\n",
        "y_pred2 = binarizer.fit_transform(y_proba_0)"
      ],
      "execution_count": 44,
      "outputs": []
    },
    {
      "cell_type": "code",
      "metadata": {
        "id": "Y-WrHrICYFB1",
        "colab": {
          "base_uri": "https://localhost:8080/"
        },
        "outputId": "7199c233-b8bb-45ce-d331-82c59770a10b"
      },
      "source": [
        "# y과 y_pred2의 혼동행렬, 정확도, 정밀도, 재현율, f1 score 구하기\n",
        "cm2 = confusion_matrix(y, y_pred2)\n",
        "accuracy2 = accuracy_score(y, y_pred2)\n",
        "precision2 = precision_score(y, y_pred2)\n",
        "recall2 = recall_score(y, y_pred2)\n",
        "f1_2 = f1_score(y, y_pred2)\n",
        "\n",
        "print(cm2)\n",
        "print(accuracy2)\n",
        "print(precision2)\n",
        "print(recall2)\n",
        "print(f1_2)"
      ],
      "execution_count": 45,
      "outputs": [
        {
          "output_type": "stream",
          "name": "stdout",
          "text": [
            "[[356   1]\n",
            " [ 73 139]]\n",
            "0.8699472759226714\n",
            "0.9928571428571429\n",
            "0.6556603773584906\n",
            "0.7897727272727273\n"
          ]
        }
      ]
    },
    {
      "cell_type": "markdown",
      "metadata": {
        "id": "itgf_OjsjU-R"
      },
      "source": [
        "**ROC 곡선 시각화**"
      ]
    },
    {
      "cell_type": "code",
      "metadata": {
        "id": "DW75xBokjXKy"
      },
      "source": [
        "from sklearn.metrics import roc_curve, auc\n",
        "\n",
        "y_prob = model_lor.predict_proba(X)\n",
        "fpr, tpr, thresholds = roc_curve(y, y_prob[:, 1])\n",
        "roc_auc = auc(fpr, tpr)"
      ],
      "execution_count": 46,
      "outputs": []
    },
    {
      "cell_type": "code",
      "metadata": {
        "id": "CSJ69SGJVh7m",
        "colab": {
          "base_uri": "https://localhost:8080/",
          "height": 564
        },
        "outputId": "44a49c8e-f933-4d6b-e645-b4786d5de624"
      },
      "source": [
        "import matplotlib.pyplot as plt\n",
        "\n",
        "plt.figure(figsize=(8,6))\n",
        "plt.plot(fpr, tpr, color='blue', lw=2, label=\"ROC curve = {:.3f}\".format(roc_auc))\n",
        "plt.xlabel(\"False Positive Rate\")\n",
        "plt.ylabel(\"True Positive Rate\")\n",
        "plt.title(\"ROC Curve\")\n",
        "plt.show()"
      ],
      "execution_count": 47,
      "outputs": [
        {
          "output_type": "display_data",
          "data": {
            "text/plain": [
              "<Figure size 800x600 with 1 Axes>"
            ],
            "image/png": "[encoded data removed]"
          },
          "metadata": {}
        }
      ]
    },
    {
      "cell_type": "markdown",
      "metadata": {
        "id": "fL4as0YsWYD7"
      },
      "source": [
        "**ROC AUC 값을 구하고 해당 값을 통해 알 수 있는 점을 쓰시오.**"
      ]
    },
    {
      "cell_type": "code",
      "metadata": {
        "id": "-SEElVZTWaVp",
        "colab": {
          "base_uri": "https://localhost:8080/"
        },
        "outputId": "2f94cc81-c700-456d-a6ec-75559590707d"
      },
      "source": [
        "roc_auc"
      ],
      "execution_count": 48,
      "outputs": [
        {
          "output_type": "execute_result",
          "data": {
            "text/plain": [
              "np.float64(0.974076423022039)"
            ]
          },
          "metadata": {},
          "execution_count": 48
        }
      ]
    },
    {
      "cell_type": "markdown",
      "source": [
        "모델이 양성과 음성을 구분하는 능력이 약 97.4%라는 것을 알 수 있다."
      ],
      "metadata": {
        "id": "HDSvbBqajuyN"
      }
    }
  ]
}